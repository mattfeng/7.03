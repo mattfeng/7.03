{
 "cells": [
  {
   "cell_type": "markdown",
   "id": "2cfccee2",
   "metadata": {},
   "source": [
    "# Problem 3"
   ]
  },
  {
   "cell_type": "code",
   "execution_count": 1,
   "id": "9943b706",
   "metadata": {},
   "outputs": [],
   "source": [
    "def calc_chi_squared(obs, hyp_ratio):\n",
    "    \"\"\"\n",
    "    wt: wild type\n",
    "    mut: mutant\n",
    "    \"\"\"\n",
    "    total = sum(obs)\n",
    "    total_hyp_ratio = sum(hyp_ratio)\n",
    "    hyp = [i / total_hyp_ratio * total for i in hyp_ratio]\n",
    "    \n",
    "    chisq = 0\n",
    "    for o, e in zip(obs, hyp):\n",
    "        chisq += (o - e) ** 2 / e\n",
    "        \n",
    "    return chisq"
   ]
  },
  {
   "cell_type": "code",
   "execution_count": 2,
   "id": "f942d84f",
   "metadata": {},
   "outputs": [
    {
     "name": "stdout",
     "output_type": "stream",
     "text": [
      "6.876190476190477\n"
     ]
    }
   ],
   "source": [
    "print(calc_chi_squared([24, 6], [9, 7]))"
   ]
  },
  {
   "cell_type": "code",
   "execution_count": 3,
   "id": "d0758980",
   "metadata": {},
   "outputs": [
    {
     "name": "stdout",
     "output_type": "stream",
     "text": [
      "0.4\n"
     ]
    }
   ],
   "source": [
    "print(calc_chi_squared([24, 6], [3, 1]))"
   ]
  },
  {
   "cell_type": "code",
   "execution_count": 4,
   "id": "a928e7e7",
   "metadata": {},
   "outputs": [
    {
     "name": "stdout",
     "output_type": "stream",
     "text": [
      "9.68\n"
     ]
    }
   ],
   "source": [
    "print(calc_chi_squared([24, 6], [15, 1]))"
   ]
  },
  {
   "cell_type": "code",
   "execution_count": 5,
   "id": "6a635691",
   "metadata": {},
   "outputs": [
    {
     "name": "stdout",
     "output_type": "stream",
     "text": [
      "0.03076923076923077\n"
     ]
    }
   ],
   "source": [
    "print(calc_chi_squared([24, 6], [13, 3]))"
   ]
  },
  {
   "cell_type": "code",
   "execution_count": 7,
   "id": "9d950983",
   "metadata": {},
   "outputs": [
    {
     "name": "stdout",
     "output_type": "stream",
     "text": [
      "192\n"
     ]
    }
   ],
   "source": [
    "mult = 1\n",
    "while calc_chi_squared([13 * mult, 3 * mult], [3, 1]) < 3.8:\n",
    "    mult += 1\n",
    "\n",
    "print(mult * 16)"
   ]
  },
  {
   "cell_type": "code",
   "execution_count": null,
   "id": "83414f10",
   "metadata": {},
   "outputs": [],
   "source": []
  }
 ],
 "metadata": {
  "kernelspec": {
   "display_name": "Python 3 (ipykernel)",
   "language": "python",
   "name": "python3"
  },
  "language_info": {
   "codemirror_mode": {
    "name": "ipython",
    "version": 3
   },
   "file_extension": ".py",
   "mimetype": "text/x-python",
   "name": "python",
   "nbconvert_exporter": "python",
   "pygments_lexer": "ipython3",
   "version": "3.8.8"
  }
 },
 "nbformat": 4,
 "nbformat_minor": 5
}
